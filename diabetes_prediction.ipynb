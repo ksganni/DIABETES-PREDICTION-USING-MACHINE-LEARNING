{
 "cells": [
  {
   "cell_type": "code",
   "execution_count": null,
   "id": "e915ae32",
   "metadata": {
    "vscode": {
     "languageId": "plaintext"
    }
   },
   "outputs": [],
   "source": [
    "# Importing the necessary Libraries\n",
    "import pandas as pd\n",
    "import numpy as np\n",
    "import matplotlib.pyplot as plt\n",
    "import seaborn as sns\n",
    "from sklearn.model_selection import train_test_split\n",
    "from sklearn.preprocessing import StandardScaler\n",
    "from sklearn.linear_model import LogisticRegression\n",
    "from sklearn.ensemble import RandomForestClassifier\n",
    "from sklearn.neighbors import KNeighborsClassifier\n",
    "from sklearn.svm import SVC\n",
    "from sklearn.metrics import accuracy_score, precision_score, recall_score, f1_score, roc_auc_score, confusion_matrix, roc_curve\n",
    "import pickle\n",
    "import os"
   ]
  },
  {
   "cell_type": "code",
   "execution_count": null,
   "id": "921544cf",
   "metadata": {
    "vscode": {
     "languageId": "plaintext"
    }
   },
   "outputs": [],
   "source": [
    "# Loading the diabetes dataset from a CSV file and shows its shape and first rows\n",
    "data = pd.read_csv('diabetes.csv')\n",
    "print(\"Shape:\", data.shape)\n",
    "print(data.head())"
   ]
  },
  {
   "cell_type": "code",
   "execution_count": null,
   "id": "12bba3ef",
   "metadata": {
    "vscode": {
     "languageId": "plaintext"
    }
   },
   "outputs": [],
   "source": [
    "# Printing the basic information and checks for missing values\n",
    "print(data.info())\n",
    "print(\"\\nMissing values per column:\")\n",
    "print(data.isnull().sum())"
   ]
  },
  {
   "cell_type": "code",
   "execution_count": null,
   "id": "0d7ba5f1",
   "metadata": {
    "vscode": {
     "languageId": "plaintext"
    }
   },
   "outputs": [],
   "source": [
    "# Describing the dataset statistics for numeric columns\n",
    "print(data.describe())"
   ]
  },
  {
   "cell_type": "code",
   "execution_count": null,
   "id": "5237b7d1",
   "metadata": {
    "vscode": {
     "languageId": "plaintext"
    }
   },
   "outputs": [],
   "source": [
    "# Explaining the dataset features and printing them\n",
    "feature_info = {\n",
    "    \"Pregnancies\": \"Number of times pregnant\",\n",
    "    \"Glucose\": \"Plasma glucose concentration (mg/dL)\",\n",
    "    \"BloodPressure\": \"Diastolic blood pressure (mm Hg)\",\n",
    "    \"SkinThickness\": \"Triceps skin fold thickness (mm)\",\n",
    "    \"Insulin\": \"2-Hour serum insulin (mu U/ml)\",\n",
    "    \"BMI\": \"Body mass index (weight in kg/(height in m)^2)\",\n",
    "    \"DiabetesPedigreeFunction\": \"Diabetes pedigree function\",\n",
    "    \"Age\": \"Age in years\",\n",
    "    \"Outcome\": \"Class variable (0: non-diabetic, 1: diabetic)\"\n",
    "}\n",
    "print(\"Feature descriptions:\")\n",
    "for k, v in feature_info.items():\n",
    "    print(f\"{k} : {v}\")"
   ]
  },
  {
   "cell_type": "code",
   "execution_count": null,
   "id": "97896fec",
   "metadata": {
    "vscode": {
     "languageId": "plaintext"
    }
   },
   "outputs": [],
   "source": [
    "# Checking for zero values in columns where zero is not possible and replacing the zeros with NaN\n",
    "cols_with_zero_not_valid = [\"Glucose\", \"BloodPressure\", \"SkinThickness\", \"Insulin\", \"BMI\"]\n",
    "data[cols_with_zero_not_valid] = data[cols_with_zero_not_valid].replace(0, np.nan)\n",
    "print(data[cols_with_zero_not_valid].isnull().sum())\n"
   ]
  },
  {
   "cell_type": "code",
   "execution_count": null,
   "id": "2e3b5738",
   "metadata": {
    "vscode": {
     "languageId": "plaintext"
    }
   },
   "outputs": [],
   "source": [
    "# Filling the missing values with the median of each column\n",
    "data = data.copy()\n",
    "for col in cols_with_zero_not_valid:\n",
    "    median_value = data[col].median()\n",
    "    data[col].fillna(median_value, inplace=True)\n",
    "print(\"Missing values after imputation:\")\n",
    "print(data.isnull().sum())\n"
   ]
  },
  {
   "cell_type": "code",
   "execution_count": null,
   "id": "f139430b",
   "metadata": {
    "vscode": {
     "languageId": "plaintext"
    }
   },
   "outputs": [],
   "source": [
    "# Showing basic class distribution of the target\n",
    "print(\"Outcome value counts:\")\n",
    "print(data['Outcome'].value_counts())\n",
    "print(\"\\nOutcome percentages:\")\n",
    "print(data['Outcome'].value_counts(normalize=True) * 100)\n"
   ]
  },
  {
   "cell_type": "code",
   "execution_count": null,
   "id": "944132b9",
   "metadata": {
    "vscode": {
     "languageId": "plaintext"
    }
   },
   "outputs": [],
   "source": [
    "# Plotting the histograms for all numeric features\n",
    "data.hist(figsize=(12,10))\n",
    "plt.tight_layout()\n",
    "plt.savefig('results/feature_histograms.png')\n",
    "plt.show()\n"
   ]
  },
  {
   "cell_type": "code",
   "execution_count": null,
   "id": "09859dc6",
   "metadata": {
    "vscode": {
     "languageId": "plaintext"
    }
   },
   "outputs": [],
   "source": [
    "# Plotting a correlation heatmap\n",
    "plt.figure(figsize=(8,6))\n",
    "corr = data.corr()\n",
    "sns.heatmap(corr, annot=True, fmt=\".2f\")\n",
    "plt.title(\"Correlation matrix\")\n",
    "plt.savefig('results/correlation_heatmap.png')\n",
    "plt.show()\n"
   ]
  },
  {
   "cell_type": "code",
   "execution_count": null,
   "id": "b8f75292",
   "metadata": {
    "vscode": {
     "languageId": "plaintext"
    }
   },
   "outputs": [],
   "source": [
    "# Preparing the features and target for modeling\n",
    "X = data.drop('Outcome', axis=1)\n",
    "y = data['Outcome']\n",
    "print(\"X shape:\", X.shape)\n",
    "print(\"y shape:\", y.shape)\n"
   ]
  },
  {
   "cell_type": "code",
   "execution_count": null,
   "id": "671e0dd6",
   "metadata": {
    "vscode": {
     "languageId": "plaintext"
    }
   },
   "outputs": [],
   "source": [
    "# Splitting the data into training and test sets\n",
    "X_train, X_test, y_train, y_test = train_test_split(X, y, test_size=0.2, random_state=42, stratify=y)\n",
    "print(\"Train shape:\", X_train.shape)\n",
    "print(\"Test shape:\", X_test.shape)\n"
   ]
  },
  {
   "cell_type": "code",
   "execution_count": null,
   "id": "db9fa50c",
   "metadata": {
    "vscode": {
     "languageId": "plaintext"
    }
   },
   "outputs": [],
   "source": [
    "# Scaling the numeric features using StandardScaler\n",
    "scaler = StandardScaler()\n",
    "scaler.fit(X_train)\n",
    "X_train_scaled = scaler.transform(X_train)\n",
    "X_test_scaled = scaler.transform(X_test)\n"
   ]
  },
  {
   "cell_type": "code",
   "execution_count": null,
   "id": "64f55a01",
   "metadata": {
    "vscode": {
     "languageId": "plaintext"
    }
   },
   "outputs": [],
   "source": [
    "# Training three simple models and storing them in a dictionary\n",
    "models = {\n",
    "    \"LogisticRegression\": LogisticRegression(max_iter=200),\n",
    "    \"RandomForest\": RandomForestClassifier(n_estimators=100, random_state=42),\n",
    "    \"KNN\": KNeighborsClassifier(n_neighbors=5)\n",
    "}\n",
    "for name, model in models.items():\n",
    "    model.fit(X_train_scaled, y_train)\n",
    "    print(name, \"trained\")\n"
   ]
  },
  {
   "cell_type": "code",
   "execution_count": null,
   "id": "24d50773",
   "metadata": {
    "vscode": {
     "languageId": "plaintext"
    }
   },
   "outputs": [],
   "source": [
    "# Evaluating each model on the test set and collecting metrics\n",
    "results = []\n",
    "for name, model in models.items():\n",
    "    y_pred = model.predict(X_test_scaled)\n",
    "    y_proba = None\n",
    "    try:\n",
    "        y_proba = model.predict_proba(X_test_scaled)[:,1]\n",
    "    except:\n",
    "        y_proba = None\n",
    "    acc = accuracy_score(y_test, y_pred)\n",
    "    prec = precision_score(y_test, y_pred, zero_division=0)\n",
    "    rec = recall_score(y_test, y_pred, zero_division=0)\n",
    "    f1 = f1_score(y_test, y_pred, zero_division=0)\n",
    "    roc = roc_auc_score(y_test, y_proba) if y_proba is not None else None\n",
    "    cm = confusion_matrix(y_test, y_pred)\n",
    "    results.append({\n",
    "        \"model\": name,\n",
    "        \"accuracy\": acc,\n",
    "        \"precision\": prec,\n",
    "        \"recall\": rec,\n",
    "        \"f1\": f1,\n",
    "        \"roc_auc\": roc,\n",
    "        \"confusion_matrix\": cm\n",
    "    })\n",
    "print(\"Evaluation complete\")\n"
   ]
  },
  {
   "cell_type": "code",
   "execution_count": null,
   "id": "ba219c46",
   "metadata": {
    "vscode": {
     "languageId": "plaintext"
    }
   },
   "outputs": [],
   "source": [
    "# Printing the evaluation results \n",
    "for r in results:\n",
    "    print(\"Model:\", r[\"model\"])\n",
    "    print(\" Accuracy:\", round(r[\"accuracy\"], 3))\n",
    "    print(\" Precision:\", round(r[\"precision\"], 3))\n",
    "    print(\" Recall:\", round(r[\"recall\"], 3))\n",
    "    print(\" F1:\", round(r[\"f1\"], 3))\n",
    "    print(\" ROC AUC:\", None if r[\"roc_auc\"] is None else round(r[\"roc_auc\"],3))\n",
    "    print(\" Confusion Matrix:\\n\", r[\"confusion_matrix\"])\n",
    "    print(\"-\"*30)\n"
   ]
  },
  {
   "cell_type": "code",
   "execution_count": null,
   "id": "78bffa4d",
   "metadata": {
    "vscode": {
     "languageId": "plaintext"
    }
   },
   "outputs": [],
   "source": [
    "# Creating a bar chart comparing model accuracies and saving it\n",
    "model_names = [r[\"model\"] for r in results]\n",
    "accuracies = [r[\"accuracy\"] for r in results]\n",
    "plt.figure(figsize=(6,4))\n",
    "plt.bar(model_names, accuracies)\n",
    "plt.ylabel(\"Accuracy\")\n",
    "plt.ylim(0,1)\n",
    "plt.title(\"Model accuracy comparison\")\n",
    "plt.savefig('results/model_accuracy_comparison.png')\n",
    "plt.show()\n"
   ]
  },
  {
   "cell_type": "code",
   "execution_count": null,
   "id": "12e5eef9",
   "metadata": {
    "vscode": {
     "languageId": "plaintext"
    }
   },
   "outputs": [],
   "source": [
    "# Plotting ROC curves for models that provide probability estimates\n",
    "plt.figure(figsize=(6,5))\n",
    "for r in results:\n",
    "    if r[\"roc_auc\"] is not None:\n",
    "        model = models[r[\"model\"]]\n",
    "        y_proba = model.predict_proba(X_test_scaled)[:,1]\n",
    "        fpr, tpr, _ = roc_curve(y_test, y_proba)\n",
    "        plt.plot(fpr, tpr, label=f\"{r['model']} (AUC = {r['roc_auc']:.2f})\")\n",
    "plt.plot([0,1], [0,1], linestyle='--')\n",
    "plt.xlabel(\"False Positive Rate\")\n",
    "plt.ylabel(\"True Positive Rate\")\n",
    "plt.title(\"ROC Curves\")\n",
    "plt.legend()\n",
    "plt.savefig('results/roc_curves.png')\n",
    "plt.show()\n"
   ]
  },
  {
   "cell_type": "code",
   "execution_count": null,
   "id": "b6693b7d",
   "metadata": {
    "vscode": {
     "languageId": "plaintext"
    }
   },
   "outputs": [],
   "source": [
    "# Saving the best model (by accuracy) to disk using pickle\n",
    "best = max(results, key=lambda x: x[\"accuracy\"])\n",
    "best_model_name = best[\"model\"]\n",
    "best_model = models[best_model_name]\n",
    "os.makedirs('results', exist_ok=True)\n",
    "with open('results/best_model.pkl', 'wb') as f:\n",
    "    pickle.dump(best_model, f)\n",
    "print(\"Saved best model:\", best_model_name)\n"
   ]
  },
  {
   "cell_type": "code",
   "execution_count": null,
   "id": "d1e6a869",
   "metadata": {
    "vscode": {
     "languageId": "plaintext"
    }
   },
   "outputs": [],
   "source": [
    "# Defining a function to predict diabetes for a single new sample\n",
    "def predict_single(sample_dict):\n",
    "    cols = X.columns.tolist()\n",
    "    x = [sample_dict.get(c, 0) for c in cols]\n",
    "    x_arr = np.array(x).reshape(1, -1)\n",
    "    x_scaled = scaler.transform(x_arr)\n",
    "    pred = best_model.predict(x_scaled)[0]\n",
    "    proba = None\n",
    "    try:\n",
    "        proba = best_model.predict_proba(x_scaled)[0][1]\n",
    "    except:\n",
    "        proba = None\n",
    "    return {\"prediction\": int(pred), \"probability\": None if proba is None else float(proba)}\n",
    "\n",
    "# Example usage saved as variable for demonstration\n",
    "example_input = {\"Pregnancies\":2, \"Glucose\":120, \"BloodPressure\":70, \"SkinThickness\":20, \"Insulin\":79, \"BMI\":25.0, \"DiabetesPedigreeFunction\":0.5, \"Age\":33}\n",
    "example_prediction = predict_single(example_input)\n",
    "print(\"Example prediction:\", example_prediction)\n"
   ]
  }
 ],
 "metadata": {
  "language_info": {
   "name": "python"
  }
 },
 "nbformat": 4,
 "nbformat_minor": 5
}
